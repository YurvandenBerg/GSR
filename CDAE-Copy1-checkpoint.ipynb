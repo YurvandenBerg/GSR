{
 "cells": [
  {
   "cell_type": "code",
   "execution_count": 1,
   "metadata": {},
   "outputs": [
    {
     "ename": "ModuleNotFoundError",
     "evalue": "No module named 'tensorflow'",
     "output_type": "error",
     "traceback": [
      "\u001b[1;31m---------------------------------------------------------------------------\u001b[0m",
      "\u001b[1;31mModuleNotFoundError\u001b[0m                       Traceback (most recent call last)",
      "\u001b[1;32m<ipython-input-1-019ad5661ff1>\u001b[0m in \u001b[0;36m<module>\u001b[1;34m()\u001b[0m\n\u001b[1;32m----> 1\u001b[1;33m \u001b[1;32mimport\u001b[0m \u001b[0mtensorflow\u001b[0m \u001b[1;32mas\u001b[0m \u001b[0mtf\u001b[0m\u001b[1;33m\u001b[0m\u001b[0m\n\u001b[0m\u001b[0;32m      2\u001b[0m \u001b[1;32mfrom\u001b[0m \u001b[0msklearn\u001b[0m\u001b[1;33m.\u001b[0m\u001b[0mmetrics\u001b[0m \u001b[1;32mimport\u001b[0m \u001b[0mroc_auc_score\u001b[0m\u001b[1;33m\u001b[0m\u001b[0m\n\u001b[0;32m      3\u001b[0m \u001b[1;32mimport\u001b[0m \u001b[0mmatplotlib\u001b[0m\u001b[1;33m.\u001b[0m\u001b[0mpyplot\u001b[0m \u001b[1;32mas\u001b[0m \u001b[0mplt\u001b[0m\u001b[1;33m\u001b[0m\u001b[0m\n\u001b[0;32m      4\u001b[0m \u001b[1;32mimport\u001b[0m \u001b[0mseaborn\u001b[0m \u001b[1;32mas\u001b[0m \u001b[0msns\u001b[0m\u001b[1;33m\u001b[0m\u001b[0m\n\u001b[0;32m      5\u001b[0m \u001b[1;32mimport\u001b[0m \u001b[0mrandom\u001b[0m\u001b[1;33m\u001b[0m\u001b[0m\n",
      "\u001b[1;31mModuleNotFoundError\u001b[0m: No module named 'tensorflow'"
     ]
    }
   ],
   "source": [
    "import tensorflow as tf\n",
    "from sklearn.metrics import roc_auc_score\n",
    "import matplotlib.pyplot as plt\n",
    "import seaborn as sns\n",
    "import random \n",
    "import copy\n",
    "import svdRec\n",
    "import numpy               as np\n",
    "import pandas              as pd\n",
    "import scipy.sparse        as sparse\n",
    "import scipy.sparse.linalg as spLinalg\n",
    "from numpy              import mat\n",
    "from datetime           import datetime\n",
    "from tqdm               import tqdm\n",
    "from numpy.core.numeric import zeros_like\n",
    "from sklearn.metrics    import pairwise_distances\n",
    "from numpy              import linalg as la\n",
    "from datetime           import date   as dt\n",
    "sns.set_style(\"whitegrid\")"
   ]
  },
  {
   "cell_type": "code",
   "execution_count": 90,
   "metadata": {
    "collapsed": true
   },
   "outputs": [],
   "source": [
    "folder = '/Users/Yur/Desktop/Thesis/Data/TaFeng.csv'\n",
    "\n",
    "def readTaFeng(folder):\n",
    "    '''\n",
    "    The TaFeng dataset posseses the useful information in cols 0, 1 and 4. \n",
    "    For other datasets, please change the usecols\n",
    "\n",
    "    Args: \n",
    "        folder: the path to the corresponding folder\n",
    "    Returns:\n",
    "        df: DataFrame with all the transaction data\n",
    "    '''\n",
    "    df = pd.read_csv(folder, usecols=[0,1,4])\n",
    "    df.columns = ['date_time', 'customer_id', 'subclass']\n",
    "\n",
    "    df['date_time'] = df['date_time'].apply(lambda x: datetime.strptime(x[:10], '%m/%d/%Y'))\n",
    "    return df\n",
    "\n",
    "def addTransactionID(df):\n",
    "    \"\"\"\n",
    "    Create transaction id for each product purchased (row in df). Products in the same basket have the same transaction id.\n",
    "\n",
    "    Args:\n",
    "        df: Dataframe which includes all the product purchased.\n",
    "    Returns:\n",
    "        df: Add transaction id to the input df.\n",
    "    \"\"\"\n",
    "    df['trans_id'] =  df['customer_id'].astype(str) + df['date_time'].astype(str) # assume each customer only make at most one transaction everyday\n",
    "    df = df.sort_values(['trans_id']) # sort before finding the products in the same basket\n",
    "    cust_id = df.customer_id.values[0]\n",
    "    trans_buf_id = df.trans_id.values[0]\n",
    "    trans = 0\n",
    "    trans_id_list = []\n",
    "    for i in tqdm(range(df.shape[0])):\n",
    "        if df.customer_id.values[i] == cust_id:\n",
    "            if df.trans_id.values[i] == trans_buf_id:\n",
    "                trans_id_list.append(trans)\n",
    "            else:\n",
    "                trans += 1\n",
    "                trans_buf_id = df.trans_id.values[i]\n",
    "                trans_id_list.append(trans)\n",
    "        else:\n",
    "            cust_id = df.customer_id.values[i]\n",
    "            trans_buf_id = df.trans_id.values[i]\n",
    "            trans = 0\n",
    "            trans_id_list.append(trans)\n",
    "    df['trans_id'] = trans_id_list\n",
    "\n",
    "    return df\n",
    "\n",
    "def nTransactionsCustomers(df):\n",
    "    '''\n",
    "    Get the number of different days a customer has shopped groceries and use the last time as test basket\n",
    "\n",
    "    Args: \n",
    "        df: DataFrame which includes the transaction id's\n",
    "    Returns:\n",
    "        train_set: the test that will be used to train the similarity metrices\n",
    "        test_test: the baskets that will be used for testing, with customers that shopped at least twice\n",
    "    '''\n",
    "    df = new_df.sort_values(['customer_id', 'date_time', 'trans_id'], ascending=[True, False, False])\n",
    "    df_cust_purch = new_df.groupby(['customer_id'],as_index = False).trans_id.max() # number of purchases per user\n",
    "    cust_id  = df.customer_id.values[0]\n",
    "    n_purchases = df_cust_purch.trans_id.values[0]\n",
    "\n",
    "    purch_list = []\n",
    "    curr_cust = 0\n",
    "    for i in tqdm(range(df.shape[0])):\n",
    "        if df.customer_id.values[i] == cust_id:\n",
    "            purch_list.append(n_purchases)\n",
    "        else:\n",
    "            curr_cust = curr_cust + 1\n",
    "            cust_id = df.customer_id.values[i]\n",
    "            n_purchases = df_cust_purch.trans_id.values[curr_cust]\n",
    "            purch_list.append(n_purchases)\n",
    "    df['nb_purchases'] = purch_list\n",
    "\n",
    "    test_set = df.loc[df['trans_id'] == df['nb_purchases']]\n",
    "    train_set = df.loc[df['trans_id'] != df['nb_purchases']]\n",
    "    return train_set, test_set.loc[test_set['trans_id'] >0], purch_list\n",
    "\n",
    "def nTransactionsPlot(df, UI):\n",
    "    '''\n",
    "    Get the number of different days a customer has shopped groceries and use the last time as test basket\n",
    "\n",
    "    Args: \n",
    "        df: DataFrame which includes the transaction id's\n",
    "    Returns:\n",
    "        train_set: the test that will be used to train the similarity metrices\n",
    "        test_test: the baskets that will be used for testing, with customers that shopped at least twice\n",
    "    '''\n",
    "    df = new_df.sort_values(['customer_id', 'date_time', 'trans_id'], ascending=[True, False, False])\n",
    "    df_cust_purch = new_df.groupby(['customer_id'],as_index = False).trans_id.max() # number of purchases per user\n",
    "    cust_id  = df.customer_id.values[0]\n",
    "    n_purchases = df_cust_purch.trans_id.values[0]\n",
    "\n",
    "    purch_list = []\n",
    "    curr_cust = 0\n",
    "    unique = 0\n",
    "    for i in tqdm(range(UI.shape[1])):\n",
    "        if df.customer_id.values[i] == cust_id and unique == 0:\n",
    "            purch_list.append(n_purchases)\n",
    "            unique = 1\n",
    "        else:\n",
    "            curr_cust = curr_cust + 1\n",
    "            cust_id = df.customer_id.values[i]\n",
    "            n_purchases = df_cust_purch.trans_id.values[curr_cust]\n",
    "            purch_list.append(n_purchases)\n",
    "            unique = 0\n",
    "    \n",
    "    return purch_list\n",
    "\n",
    "def aggregateUserProcessing(dataset):\n",
    "    '''\n",
    "    This method reads a training data set and converts it into a UI dataframe\n",
    "\n",
    "    Args:\n",
    "        dataset: the training set (train_set from preceding function)\n",
    "    Returns:\n",
    "        UI: the User-Item Matrix\n",
    "        ItemDict: dictionary with item keys\n",
    "    '''\n",
    "    userDict = dict()\n",
    "    itemDict = dict()\n",
    "    ind_u = 0\n",
    "    ind_i = 0\n",
    "    dataset = dataset.loc[:,['date_time', 'customer_id','subclass']].values.tolist()\n",
    "    print('Counting user and item...')\n",
    "    for d, u, i in dataset:\n",
    "        if int(u) not in userDict.keys():\n",
    "            userDict[int(u)] = ind_u\n",
    "            ind_u+=1\n",
    "        if i not in itemDict.keys():\n",
    "            itemDict[i] = ind_i\n",
    "            ind_i+=1\n",
    "\n",
    "    UI = np.zeros((len(userDict.keys()), len(itemDict.keys())))\n",
    "\n",
    "    print('Populating aggregate matrix')\n",
    "    for d, u, i in dataset:\n",
    "        UI[userDict[int(u)], itemDict[i]]+=1\n",
    "\n",
    "    # Log frequence UI transformation (TO BE OPTIMIZE)\n",
    "    # -------------------------------\n",
    "    print('Frequence normalisation')\n",
    "    for i,j in np.argwhere(UI!=0):\n",
    "        UI[i,j] = np.log(UI[i,j]+1)\n",
    "\n",
    "    UI = pd.DataFrame(data=UI,    # values\n",
    "                      index=userDict.keys(),    # 1st column as index\n",
    "                      columns=itemDict.keys()) \n",
    "    return UI, itemDict\n",
    "\n",
    "def aggregateTransactionProcessing(dataset, itemDict):\n",
    "    '''\n",
    "    This function reads a test set and splits it into a list of baskets that have been purchases per customer\n",
    "\n",
    "    Args:\n",
    "        dataset: test data\n",
    "    returns:\n",
    "        self.BasketItemList: list of purchased baskets that has to be split into training and test baskets\n",
    "    '''\n",
    "    print('Create test baskets dictionnary')\n",
    "    dataset = dataset.values.tolist()\n",
    "    basketDict = dict()\n",
    "\n",
    "    ind_b = 0\n",
    "    for i in np.arange(len(dataset)):\n",
    "        if (dataset[i][1]) not in basketDict.keys():\n",
    "            basketDict[dataset[i][1]] = ind_b\n",
    "            ind_b+=1\n",
    "\n",
    "    print('Create basket array')\n",
    "    BasketItem = np.zeros((len(basketDict), len(itemDict.keys())), dtype='int')\n",
    "    for i in np.arange(len(dataset)):\n",
    "        if dataset[i][2] in itemDict.keys():\n",
    "            BasketItem[basketDict[dataset[i][1]], itemDict[dataset[i][2]]] +=1\n",
    "\n",
    "    BasketItemList = []\n",
    "    usersTest = {y:x for x, y in basketDict.items()}\n",
    "    for i in range(BasketItem.shape[0]):\n",
    "        BasketItemList.append(np.argwhere(BasketItem[i,:]!=0).flatten())\n",
    "\n",
    "    placeToProductDict = {y:x for x,y in itemDict.items()}\n",
    "\n",
    "    for i in range(len(BasketItemList)):\n",
    "        for j in range(len(BasketItemList[i])):\n",
    "            BasketItemList[i][j] = placeToProductDict[BasketItemList[i][j]]\n",
    "\n",
    "    index = 0\n",
    "    user = 0\n",
    "    correct_baskets = copy.copy(BasketItemList) \n",
    "    for basket in BasketItemList: # remove the purchases that have less than 4 separate products in them\n",
    "        if len(basket) < 4:\n",
    "            correct_baskets.pop(index)\n",
    "            usersTest.pop(user)\n",
    "            user = user + 1\n",
    "        else:\n",
    "            index = index + 1\n",
    "            user = user + 1\n",
    "    BasketItemList = correct_baskets\n",
    "\n",
    "    return BasketItemList, usersTest"
   ]
  },
  {
   "cell_type": "code",
   "execution_count": 91,
   "metadata": {},
   "outputs": [
    {
     "name": "stderr",
     "output_type": "stream",
     "text": [
      "100%|██████████| 817741/817741 [00:18<00:00, 44213.27it/s]\n",
      "100%|██████████| 817741/817741 [00:09<00:00, 86052.51it/s]\n"
     ]
    },
    {
     "name": "stdout",
     "output_type": "stream",
     "text": [
      "Counting user and item...\n",
      "Populating aggregate matrix\n",
      "Frequence normalisation\n",
      "Create test baskets dictionnary\n",
      "Create basket array\n"
     ]
    }
   ],
   "source": [
    "folder = '/Users/Yur/Desktop/Thesis/Data/TaFeng.csv'\n",
    "\n",
    "df     = readTaFeng(folder)\n",
    "new_df = addTransactionID(df)\n",
    "\n",
    "train, test_unf, purchlist = nTransactionsCustomers(new_df)\n",
    "UI, itemDict    = aggregateUserProcessing(train)\n",
    "baskets, usersTest         = aggregateTransactionProcessing(test_unf, itemDict)"
   ]
  },
  {
   "cell_type": "code",
   "execution_count": 93,
   "metadata": {
    "collapsed": true
   },
   "outputs": [],
   "source": [
    "def prepareCDAE(UI, baskets, usersTest):\n",
    "    UI[UI!=0] = 1\n",
    "    train_x = UI.values\n",
    "\n",
    "    test_x = pd.DataFrame(np.zeros(shape=(len(baskets), UI.shape[1])), index=usersTest.values(), columns=UI.columns)\n",
    "    return test_x"
   ]
  },
  {
   "cell_type": "code",
   "execution_count": 95,
   "metadata": {},
   "outputs": [
    {
     "data": {
      "text/plain": [
       "(11813, 1973)"
      ]
     },
     "execution_count": 95,
     "metadata": {},
     "output_type": "execute_result"
    }
   ],
   "source": [
    "prepareCDAE(UI, baskets, usersTest).shape"
   ]
  },
  {
   "cell_type": "code",
   "execution_count": 13,
   "metadata": {},
   "outputs": [
    {
     "data": {
      "text/html": [
       "<div>\n",
       "<style scoped>\n",
       "    .dataframe tbody tr th:only-of-type {\n",
       "        vertical-align: middle;\n",
       "    }\n",
       "\n",
       "    .dataframe tbody tr th {\n",
       "        vertical-align: top;\n",
       "    }\n",
       "\n",
       "    .dataframe thead th {\n",
       "        text-align: right;\n",
       "    }\n",
       "</style>\n",
       "<table border=\"1\" class=\"dataframe\">\n",
       "  <thead>\n",
       "    <tr style=\"text-align: right;\">\n",
       "      <th></th>\n",
       "      <th>1</th>\n",
       "      <th>2</th>\n",
       "      <th>3</th>\n",
       "      <th>4</th>\n",
       "      <th>5</th>\n",
       "      <th>6</th>\n",
       "      <th>7</th>\n",
       "      <th>8</th>\n",
       "      <th>9</th>\n",
       "      <th>10</th>\n",
       "      <th>...</th>\n",
       "      <th>23</th>\n",
       "      <th>24</th>\n",
       "      <th>25</th>\n",
       "      <th>26</th>\n",
       "      <th>27</th>\n",
       "      <th>28</th>\n",
       "      <th>29</th>\n",
       "      <th>30</th>\n",
       "      <th>31</th>\n",
       "      <th>32</th>\n",
       "    </tr>\n",
       "  </thead>\n",
       "  <tbody>\n",
       "    <tr>\n",
       "      <th>0</th>\n",
       "      <td>citrus fruit</td>\n",
       "      <td>semi-finished bread</td>\n",
       "      <td>margarine</td>\n",
       "      <td>ready soups</td>\n",
       "      <td>None</td>\n",
       "      <td>None</td>\n",
       "      <td>None</td>\n",
       "      <td>None</td>\n",
       "      <td>None</td>\n",
       "      <td>None</td>\n",
       "      <td>...</td>\n",
       "      <td>None</td>\n",
       "      <td>None</td>\n",
       "      <td>None</td>\n",
       "      <td>None</td>\n",
       "      <td>None</td>\n",
       "      <td>None</td>\n",
       "      <td>None</td>\n",
       "      <td>None</td>\n",
       "      <td>None</td>\n",
       "      <td>None</td>\n",
       "    </tr>\n",
       "    <tr>\n",
       "      <th>1</th>\n",
       "      <td>tropical fruit</td>\n",
       "      <td>yogurt</td>\n",
       "      <td>coffee</td>\n",
       "      <td>None</td>\n",
       "      <td>None</td>\n",
       "      <td>None</td>\n",
       "      <td>None</td>\n",
       "      <td>None</td>\n",
       "      <td>None</td>\n",
       "      <td>None</td>\n",
       "      <td>...</td>\n",
       "      <td>None</td>\n",
       "      <td>None</td>\n",
       "      <td>None</td>\n",
       "      <td>None</td>\n",
       "      <td>None</td>\n",
       "      <td>None</td>\n",
       "      <td>None</td>\n",
       "      <td>None</td>\n",
       "      <td>None</td>\n",
       "      <td>None</td>\n",
       "    </tr>\n",
       "    <tr>\n",
       "      <th>2</th>\n",
       "      <td>whole milk</td>\n",
       "      <td>None</td>\n",
       "      <td>None</td>\n",
       "      <td>None</td>\n",
       "      <td>None</td>\n",
       "      <td>None</td>\n",
       "      <td>None</td>\n",
       "      <td>None</td>\n",
       "      <td>None</td>\n",
       "      <td>None</td>\n",
       "      <td>...</td>\n",
       "      <td>None</td>\n",
       "      <td>None</td>\n",
       "      <td>None</td>\n",
       "      <td>None</td>\n",
       "      <td>None</td>\n",
       "      <td>None</td>\n",
       "      <td>None</td>\n",
       "      <td>None</td>\n",
       "      <td>None</td>\n",
       "      <td>None</td>\n",
       "    </tr>\n",
       "    <tr>\n",
       "      <th>3</th>\n",
       "      <td>pip fruit</td>\n",
       "      <td>yogurt</td>\n",
       "      <td>cream cheese</td>\n",
       "      <td>meat spreads</td>\n",
       "      <td>None</td>\n",
       "      <td>None</td>\n",
       "      <td>None</td>\n",
       "      <td>None</td>\n",
       "      <td>None</td>\n",
       "      <td>None</td>\n",
       "      <td>...</td>\n",
       "      <td>None</td>\n",
       "      <td>None</td>\n",
       "      <td>None</td>\n",
       "      <td>None</td>\n",
       "      <td>None</td>\n",
       "      <td>None</td>\n",
       "      <td>None</td>\n",
       "      <td>None</td>\n",
       "      <td>None</td>\n",
       "      <td>None</td>\n",
       "    </tr>\n",
       "    <tr>\n",
       "      <th>4</th>\n",
       "      <td>other vegetables</td>\n",
       "      <td>whole milk</td>\n",
       "      <td>condensed milk</td>\n",
       "      <td>long life bakery product</td>\n",
       "      <td>None</td>\n",
       "      <td>None</td>\n",
       "      <td>None</td>\n",
       "      <td>None</td>\n",
       "      <td>None</td>\n",
       "      <td>None</td>\n",
       "      <td>...</td>\n",
       "      <td>None</td>\n",
       "      <td>None</td>\n",
       "      <td>None</td>\n",
       "      <td>None</td>\n",
       "      <td>None</td>\n",
       "      <td>None</td>\n",
       "      <td>None</td>\n",
       "      <td>None</td>\n",
       "      <td>None</td>\n",
       "      <td>None</td>\n",
       "    </tr>\n",
       "  </tbody>\n",
       "</table>\n",
       "<p>5 rows × 32 columns</p>\n",
       "</div>"
      ],
      "text/plain": [
       "                  1                    2               3  \\\n",
       "0      citrus fruit  semi-finished bread       margarine   \n",
       "1    tropical fruit               yogurt          coffee   \n",
       "2        whole milk                 None            None   \n",
       "3         pip fruit               yogurt   cream cheese    \n",
       "4  other vegetables           whole milk  condensed milk   \n",
       "\n",
       "                          4     5     6     7     8     9    10  ...     23  \\\n",
       "0               ready soups  None  None  None  None  None  None  ...   None   \n",
       "1                      None  None  None  None  None  None  None  ...   None   \n",
       "2                      None  None  None  None  None  None  None  ...   None   \n",
       "3              meat spreads  None  None  None  None  None  None  ...   None   \n",
       "4  long life bakery product  None  None  None  None  None  None  ...   None   \n",
       "\n",
       "     24    25    26    27    28    29    30    31    32  \n",
       "0  None  None  None  None  None  None  None  None  None  \n",
       "1  None  None  None  None  None  None  None  None  None  \n",
       "2  None  None  None  None  None  None  None  None  None  \n",
       "3  None  None  None  None  None  None  None  None  None  \n",
       "4  None  None  None  None  None  None  None  None  None  \n",
       "\n",
       "[5 rows x 32 columns]"
      ]
     },
     "execution_count": 13,
     "metadata": {},
     "output_type": "execute_result"
    }
   ],
   "source": [
    "cols = ['1','2','3','4','5','6','7','8','9','10','11','12',\n",
    "        '13','14','15','16','17','18','19','20','21','22',\n",
    "        '23','24','25','26','27','28','29','30','31','32']\n",
    "\n",
    "df = pd.read_csv(\"/Users/Yur/Downloads/CF-with-DAE-on-Market-Basket-Data-master/groceries.csv\", sep = \",\", \n",
    "                 names = cols, engine = \"python\")\n",
    "data = np.array(df)\n",
    "df.head(5)"
   ]
  },
  {
   "cell_type": "code",
   "execution_count": 47,
   "metadata": {
    "collapsed": true
   },
   "outputs": [],
   "source": [
    "test_set = get_onehot_items(baskets, itemDict.keys())"
   ]
  },
  {
   "cell_type": "code",
   "execution_count": 96,
   "metadata": {
    "collapsed": true
   },
   "outputs": [],
   "source": [
    "train_set = UI.values"
   ]
  },
  {
   "cell_type": "code",
   "execution_count": 97,
   "metadata": {},
   "outputs": [
    {
     "data": {
      "text/plain": [
       "array([[1., 1., 1., ..., 0., 0., 0.],\n",
       "       [0., 0., 0., ..., 0., 0., 0.],\n",
       "       [0., 0., 0., ..., 0., 0., 0.],\n",
       "       ...,\n",
       "       [0., 0., 0., ..., 0., 0., 0.],\n",
       "       [0., 0., 0., ..., 0., 0., 0.],\n",
       "       [1., 1., 1., ..., 0., 0., 1.]])"
      ]
     },
     "execution_count": 97,
     "metadata": {},
     "output_type": "execute_result"
    }
   ],
   "source": [
    "train_set"
   ]
  },
  {
   "cell_type": "code",
   "execution_count": 45,
   "metadata": {
    "collapsed": true
   },
   "outputs": [],
   "source": [
    "def get_unique_items(data):\n",
    "    ncol = data.shape[1]\n",
    "    items = set()\n",
    "    for c in range(ncol):\n",
    "        items = items.union(data[:,c])\n",
    "    items = np.array(list(items))\n",
    "    items = items[items != np.array(None)]\n",
    "\n",
    "    return np.unique(items)\n",
    "\n",
    "def get_onehot_items(data,unique_items):\n",
    "    onehot_items = np.zeros((len(data),len(unique_items)),dtype = np.int)\n",
    "    for i, r in enumerate(data):\n",
    "        for j, c in enumerate(unique_items):\n",
    "            onehot_items[i,j] = int(c in r)\n",
    "            \n",
    "    return onehot_items\n",
    "\n",
    "def get_items_from_ohe(ohe,unique_items):\n",
    "    return unique_items[np.flatnonzero(ohe)]"
   ]
  },
  {
   "cell_type": "code",
   "execution_count": 15,
   "metadata": {
    "collapsed": true
   },
   "outputs": [],
   "source": [
    "unique_items = get_unique_items(data)\n",
    "onehot_items = np.array(get_onehot_items(data, unique_items))"
   ]
  },
  {
   "cell_type": "code",
   "execution_count": 17,
   "metadata": {},
   "outputs": [
    {
     "data": {
      "image/png": "[encoded data removed]",
      "text/plain": [
       "<Figure size 1152x576 with 1 Axes>"
      ]
     },
     "metadata": {},
     "output_type": "display_data"
    }
   ],
   "source": [
    "n = 10\n",
    "item_counts = (onehot_items != 0).sum(0)\n",
    "items_max_args = item_counts.argsort()[-n:][::-1]\n",
    "ic = pd.DataFrame({\"Items\":unique_items[items_max_args], \"Frequency\":item_counts[items_max_args]})\n",
    "\n",
    "\n",
    "fig = plt.figure(figsize = (16,8))\n",
    "sns.barplot(x=\"Items\", y=\"Frequency\", data=ic, palette=sns.color_palette(\"Set2\", 10))\n",
    "plt.xlabel(\"Items\")\n",
    "plt.ylabel(\"Frequency\")\n",
    "plt.title(str(n) + \" Most frequent items in the dataset\")\n",
    "plt.show()"
   ]
  },
  {
   "cell_type": "code",
   "execution_count": 75,
   "metadata": {},
   "outputs": [
    {
     "name": "stdout",
     "output_type": "stream",
     "text": [
      "[[0 0 0 ... 0 0 0]\n",
      " [0 0 0 ... 0 1 0]\n",
      " [0 0 0 ... 1 0 0]\n",
      " ...\n",
      " [0 0 0 ... 0 1 0]\n",
      " [0 0 0 ... 0 0 0]\n",
      " [0 0 0 ... 0 0 0]]\n",
      "\n"
     ]
    }
   ],
   "source": [
    "train_test_split = np.random.rand(len(onehot_items)) < 0.80\n",
    "train_x = onehot_items[train_test_split]\n",
    "test_x = onehot_items[~train_test_split]\n",
    "print(train_x)\n",
    "print()\n",
    "\n",
    "train_validation_split = np.random.rand(len(train_x)) < 0.80\n",
    "validation_x = train_x[~train_validation_split]\n",
    "train_x = train_x[train_validation_split]"
   ]
  },
  {
   "cell_type": "code",
   "execution_count": 70,
   "metadata": {},
   "outputs": [
    {
     "data": {
      "text/plain": [
       "array([[0, 0, 0, ..., 1, 0, 0],\n",
       "       [0, 0, 0, ..., 0, 0, 0],\n",
       "       [0, 0, 0, ..., 0, 0, 0],\n",
       "       ...,\n",
       "       [0, 1, 0, ..., 1, 0, 1],\n",
       "       [0, 0, 0, ..., 0, 1, 0],\n",
       "       [0, 0, 0, ..., 0, 0, 0]])"
      ]
     },
     "execution_count": 70,
     "metadata": {},
     "output_type": "execute_result"
    }
   ],
   "source": [
    "validation_x"
   ]
  },
  {
   "cell_type": "code",
   "execution_count": 62,
   "metadata": {},
   "outputs": [
    {
     "data": {
      "text/plain": [
       "array([[0, 0, 0, ..., 0, 0, 0],\n",
       "       [0, 0, 0, ..., 0, 0, 0],\n",
       "       [0, 1, 0, ..., 0, 0, 0],\n",
       "       ...,\n",
       "       [0, 0, 0, ..., 1, 0, 0],\n",
       "       [0, 0, 0, ..., 0, 0, 0],\n",
       "       [0, 0, 0, ..., 0, 1, 0]])"
      ]
     },
     "execution_count": 62,
     "metadata": {},
     "output_type": "execute_result"
    }
   ],
   "source": [
    "train_x"
   ]
  },
  {
   "cell_type": "code",
   "execution_count": 36,
   "metadata": {},
   "outputs": [
    {
     "data": {
      "text/plain": [
       "array([[0, 0, 0, ..., 0, 0, 0],\n",
       "       [0, 0, 0, ..., 0, 0, 0],\n",
       "       [0, 1, 0, ..., 0, 0, 0],\n",
       "       ...,\n",
       "       [0, 0, 0, ..., 1, 0, 0],\n",
       "       [0, 0, 0, ..., 0, 0, 0],\n",
       "       [0, 0, 0, ..., 0, 1, 0]])"
      ]
     },
     "execution_count": 36,
     "metadata": {},
     "output_type": "execute_result"
    }
   ],
   "source": [
    "train_x"
   ]
  },
  {
   "cell_type": "code",
   "execution_count": 76,
   "metadata": {
    "collapsed": true
   },
   "outputs": [],
   "source": [
    "def weight_variable(weight_name, weight_shape):\n",
    "    return tf.get_variable(name = \"weight_\" + weight_name,shape = weight_shape, \n",
    "            initializer = tf.contrib.layers.xavier_initializer()) \n",
    "\n",
    "def bias_variable(bias_shape):\n",
    "    initial = tf.constant(0.1, shape = bias_shape)\n",
    "    return tf.Variable(initial)\n",
    "\n",
    "def encoder(x):\n",
    "    l1 = tf.nn.softsign(tf.add(tf.matmul(x,e_weights_h1),e_biases_h1))\n",
    "    l2 = tf.nn.softsign(tf.add(tf.matmul(l1,e_weights_h2),e_biases_h2))\n",
    "    l3 = tf.nn.softsign(tf.add(tf.matmul(l2,e_weights_h3),e_biases_h3))\n",
    "    l4 = tf.nn.sigmoid(tf.add(tf.matmul(l3,e_weights_h4),e_biases_h4))\n",
    "    return l4\n",
    "    \n",
    "def decoder(x):\n",
    "    l1 = tf.nn.softsign(tf.add(tf.matmul(x,d_weights_h1),d_biases_h1))\n",
    "    l2 = tf.nn.softsign(tf.add(tf.matmul(l1,d_weights_h2),d_biases_h2))\n",
    "    l3 = tf.nn.softsign(tf.add(tf.matmul(l2,d_weights_h3),d_biases_h3))\n",
    "    l4 = tf.nn.sigmoid(tf.add(tf.matmul(l3,d_weights_h4),d_biases_h4))\n",
    "    return l4"
   ]
  },
  {
   "cell_type": "code",
   "execution_count": 77,
   "metadata": {
    "collapsed": true
   },
   "outputs": [],
   "source": [
    "input_dim = 169\n",
    "\n",
    "n_hidden_1 = 128\n",
    "n_hidden_2 = 64\n",
    "n_hidden_3 = 32\n",
    "n_hidden_4 = 16\n",
    "\n",
    "training_epochs = 30\n",
    "batch_size = 10\n",
    "total_batches = (train_x.shape[0] // batch_size)\n",
    "\n",
    "learning_rate = 0.00002\n",
    "keep_prob = 0.6\n",
    "l2_reg_rate = 0.00001"
   ]
  },
  {
   "cell_type": "code",
   "execution_count": 100,
   "metadata": {},
   "outputs": [
    {
     "data": {
      "text/plain": [
       "(6288, 169)"
      ]
     },
     "execution_count": 100,
     "metadata": {},
     "output_type": "execute_result"
    }
   ],
   "source": [
    "train_x.shape"
   ]
  },
  {
   "cell_type": "code",
   "execution_count": 78,
   "metadata": {},
   "outputs": [
    {
     "name": "stdout",
     "output_type": "stream",
     "text": [
      "\n",
      "WARNING: The TensorFlow contrib module will not be included in TensorFlow 2.0.\n",
      "For more information, please see:\n",
      "  * https://github.com/tensorflow/community/blob/master/rfcs/20180907-contrib-sunset.md\n",
      "  * https://github.com/tensorflow/addons\n",
      "If you depend on functionality not listed there, please file an issue.\n",
      "\n",
      "WARNING:tensorflow:From /Users/Yur/anaconda3/lib/python3.6/site-packages/tensorflow/python/keras/layers/core.py:143: calling dropout (from tensorflow.python.ops.nn_ops) with keep_prob is deprecated and will be removed in a future version.\n",
      "Instructions for updating:\n",
      "Please use `rate` instead of `keep_prob`. Rate should be set to `rate = 1 - keep_prob`.\n",
      "WARNING:tensorflow:From /Users/Yur/anaconda3/lib/python3.6/site-packages/tensorflow/python/ops/control_flow_ops.py:423: colocate_with (from tensorflow.python.framework.ops) is deprecated and will be removed in a future version.\n",
      "Instructions for updating:\n",
      "Colocations handled automatically by placer.\n"
     ]
    }
   ],
   "source": [
    "tf.reset_default_graph()\n",
    "\n",
    "is_training = tf.placeholder_with_default(False, shape = ())\n",
    "X = tf.placeholder(tf.float32, shape=[None,input_dim])\n",
    "X_drop = tf.contrib.layers.dropout(X, keep_prob, is_training = is_training)\n",
    "\n",
    "\n",
    "# --------------------- Encoder Variables --------------- #\n",
    "\n",
    "e_weights_h1 = weight_variable(\"el1\",[input_dim, n_hidden_1])\n",
    "e_biases_h1 = bias_variable([n_hidden_1])\n",
    "\n",
    "e_weights_h2 = weight_variable(\"el2\",[n_hidden_1, n_hidden_2])\n",
    "e_biases_h2 = bias_variable([n_hidden_2])\n",
    "\n",
    "e_weights_h3 = weight_variable(\"el3\",[n_hidden_2, n_hidden_3])\n",
    "e_biases_h3 = bias_variable([n_hidden_3])\n",
    "\n",
    "e_weights_h4 = weight_variable(\"el4\",[n_hidden_3, n_hidden_4])\n",
    "e_biases_h4 = bias_variable([n_hidden_4])\n",
    "\n",
    "# --------------------------------------------------------- #\n",
    "\n",
    "\n",
    "# --------------------- Decoder Variables --------------- #\n",
    "\n",
    "d_weights_h1 = weight_variable(\"dl1\",[n_hidden_4, n_hidden_3])\n",
    "d_biases_h1 = bias_variable([n_hidden_3])\n",
    "\n",
    "d_weights_h2 = weight_variable(\"dl2\",[n_hidden_3, n_hidden_2])\n",
    "d_biases_h2 = bias_variable([n_hidden_2])\n",
    "\n",
    "d_weights_h3 = weight_variable(\"dl3\",[n_hidden_2, n_hidden_1])\n",
    "d_biases_h3 = bias_variable([n_hidden_1])\n",
    "\n",
    "d_weights_h4 = weight_variable(\"dl4\",[n_hidden_1, input_dim])\n",
    "d_biases_h4 = bias_variable([input_dim])\n",
    "\n",
    "# --------------------------------------------------------- #\n",
    "\n",
    "encoded = encoder(X_drop)\n",
    "decoded = decoder(encoded) \n",
    "\n",
    "regularizer = tf.contrib.layers.l2_regularizer(l2_reg_rate)\n",
    "reg_loss = regularizer(e_weights_h1) + regularizer(e_weights_h2) + regularizer(e_weights_h3) + regularizer(e_weights_h4) \n",
    "cost_function = -tf.reduce_mean(((X * tf.log(decoded)) + ((1 - X) * tf.log(1 - decoded)))) + reg_loss\n",
    "optimizer = tf.train.AdamOptimizer(learning_rate).minimize(cost_function)"
   ]
  },
  {
   "cell_type": "code",
   "execution_count": 85,
   "metadata": {},
   "outputs": [
    {
     "name": "stdout",
     "output_type": "stream",
     "text": [
      "Epoch    Tr. Loss   Val. Loss\n",
      "0 \t 0.49830887   0.49813202\n",
      "1 \t 0.23042701   0.22983587\n",
      "2 \t 0.1470224   0.1461428\n",
      "3 \t 0.12128028   0.1202199\n",
      "4 \t 0.11144058   0.1102703\n",
      "5 \t 0.10703097   0.10579656\n",
      "6 \t 0.104830734   0.10356078\n",
      "7 \t 0.10364209   0.10235422\n",
      "8 \t 0.10295431   0.10165929\n",
      "9 \t 0.10252816   0.10123234\n",
      "10 \t 0.10224433   0.1009513\n",
      "11 \t 0.10203705   0.100748196\n",
      "12 \t 0.101811565   0.10051755\n",
      "13 \t 0.10080614   0.099523365\n",
      "14 \t 0.098621085   0.09743823\n",
      "15 \t 0.09727996   0.09611595\n",
      "16 \t 0.09660162   0.095443785\n",
      "17 \t 0.09619744   0.095038936\n",
      "18 \t 0.09587844   0.09472028\n",
      "19 \t 0.09565098   0.094496466\n",
      "20 \t 0.09543711   0.09428227\n",
      "21 \t 0.095254645   0.09410107\n",
      "22 \t 0.0951053   0.09395121\n",
      "23 \t 0.09495612   0.09379944\n",
      "24 \t 0.09483247   0.09367807\n",
      "25 \t 0.09470285   0.093547374\n",
      "26 \t 0.094595425   0.093438916\n",
      "27 \t 0.094494745   0.093340024\n",
      "28 \t 0.094383575   0.09322337\n",
      "29 \t 0.094299115   0.09314081\n",
      "Training ROC AUC:  0.8357\n",
      "Validation ROC AUC:  0.8362\n",
      "Test ROC AUC:  0.8338 \n",
      "\n"
     ]
    }
   ],
   "source": [
    "with tf.Session() as session:\n",
    "    tf.global_variables_initializer().run()\n",
    "    print(\"Epoch\",\"  \",\"Tr. Loss\",\" \",\"Val. Loss\")\n",
    "    for epoch in range(training_epochs):\n",
    "        for b in range(total_batches):\n",
    "            offset = (b * batch_size) % (train_x.shape[0] - batch_size)\n",
    "            batch_x = train_x[offset:(offset + batch_size), :] \n",
    "            _, c = session.run([optimizer, cost_function],feed_dict={X: batch_x, is_training: True})\n",
    "    \n",
    "        tr_c = session.run(cost_function,feed_dict={X: train_x, is_training: False})\n",
    "        val_c = session.run(cost_function,feed_dict={X: validation_x, is_training: False})\n",
    "        print(epoch,\"\\t\",tr_c,\" \",val_c)\n",
    "    \n",
    "    tr_p = session.run(decoded,feed_dict={X: train_x, is_training: False})\n",
    "    roc_auc = roc_auc_score(train_x,tr_p,average = \"samples\")\n",
    "    print(\"Training ROC AUC: \", round(roc_auc,4))\n",
    "\n",
    "    val_p = session.run(decoded,feed_dict={X: validation_x, is_training: False})\n",
    "    roc_auc = roc_auc_score(validation_x,val_p,average = \"samples\")\n",
    "    print(\"Validation ROC AUC: \", round(roc_auc,4))\n",
    "    \n",
    "    ts_p = session.run(decoded,feed_dict={X: test_x, is_training: False})\n",
    "    roc_auc = roc_auc_score(test_x,ts_p,average = \"samples\")\n",
    "    print(\"Test ROC AUC: \", round(roc_auc,4),\"\\n\")\n",
    "    \n",
    "    \n",
    "    # -------------------------------------------------------------------------------- #\n",
    "    item_preds = session.run(decoded,feed_dict={X: test_x.reshape(-1,169), is_training: False})\n",
    "    #item_preds[item_preds >= 0.1] = 1\n",
    "    #item_preds[item_preds < 0.1] = 0\n",
    "    # -------------------------------------------------------------------------------- #"
   ]
  },
  {
   "cell_type": "code",
   "execution_count": 83,
   "metadata": {},
   "outputs": [
    {
     "name": "stdout",
     "output_type": "stream",
     "text": [
      "Items in basket:  ['bathroom cleaner' 'grapes' 'pastry' 'pork' 'rolls/buns' 'sausage' 'soda'\n",
      " 'specialty bar' 'whole milk']\n",
      "Recommended item(s):  ['bottled beer' 'bottled water' 'brown bread' 'canned beer' 'citrus fruit'\n",
      " 'domestic eggs' 'fruit/vegetable juice' 'newspapers' 'other vegetables'\n",
      " 'pastry' 'pip fruit' 'rolls/buns' 'root vegetables' 'sausage'\n",
      " 'shopping bags' 'soda' 'tropical fruit' 'whipped/sour cream' 'whole milk'\n",
      " 'yogurt']\n"
     ]
    }
   ],
   "source": [
    "i = 20\n",
    "print(\"Items in basket: \",get_items_from_ohe(test_x[i],unique_items))\n",
    "print(\"Recommended item(s): \",get_items_from_ohe(item_preds[i],unique_items))"
   ]
  },
  {
   "cell_type": "code",
   "execution_count": 87,
   "metadata": {},
   "outputs": [
    {
     "data": {
      "text/plain": [
       "array([[142,   5,  80, ..., 103, 123, 166],\n",
       "       [142,   5,  80, ..., 139, 123, 166],\n",
       "       [142,   5,  80, ..., 139, 123, 166],\n",
       "       ...,\n",
       "       [142,   5,  80, ..., 123, 103, 166],\n",
       "       [142,   5,  80, ..., 123, 103, 166],\n",
       "       [142,   5,  80, ..., 139, 123, 166]])"
      ]
     },
     "execution_count": 87,
     "metadata": {},
     "output_type": "execute_result"
    }
   ],
   "source": [
    "item_preds.argsort()"
   ]
  },
  {
   "cell_type": "code",
   "execution_count": 88,
   "metadata": {},
   "outputs": [
    {
     "ename": "NameError",
     "evalue": "name 'itempreds' is not defined",
     "output_type": "error",
     "traceback": [
      "\u001b[0;31m---------------------------------------------------------------------------\u001b[0m",
      "\u001b[0;31mNameError\u001b[0m                                 Traceback (most recent call last)",
      "\u001b[0;32m<ipython-input-88-405368db91bd>\u001b[0m in \u001b[0;36m<module>\u001b[0;34m()\u001b[0m\n\u001b[0;32m----> 1\u001b[0;31m \u001b[0mitempreds\u001b[0m\u001b[0;34m[\u001b[0m\u001b[0;36m166\u001b[0m\u001b[0;34m]\u001b[0m\u001b[0;34m\u001b[0m\u001b[0m\n\u001b[0m",
      "\u001b[0;31mNameError\u001b[0m: name 'itempreds' is not defined"
     ]
    }
   ],
   "source": []
  },
  {
   "cell_type": "code",
   "execution_count": 103,
   "metadata": {
    "collapsed": true
   },
   "outputs": [],
   "source": [
    "scores= item_preds[1]"
   ]
  },
  {
   "cell_type": "code",
   "execution_count": 105,
   "metadata": {
    "collapsed": true
   },
   "outputs": [],
   "source": [
    "scores[[2, 4, 6]] = 0"
   ]
  },
  {
   "cell_type": "code",
   "execution_count": 106,
   "metadata": {},
   "outputs": [
    {
     "data": {
      "text/plain": [
       "array([2.02167034e-03, 1.39571130e-02, 0.00000000e+00, 6.77138567e-04,\n",
       "       0.00000000e+00, 1.60336494e-05, 0.00000000e+00, 5.18333912e-03,\n",
       "       4.48495150e-04, 2.35961080e-02, 1.31785572e-02, 1.07200742e-02,\n",
       "       5.56492805e-02, 6.81471527e-02, 1.09183788e-03, 2.97460854e-02,\n",
       "       2.23376155e-02, 1.14180148e-02, 4.59256768e-03, 2.68048048e-03,\n",
       "       1.25334263e-02, 5.93759418e-02, 4.55048680e-03, 4.51028347e-04,\n",
       "       2.54812837e-03, 8.28164816e-03, 1.32092834e-03, 7.02995062e-03,\n",
       "       1.84527338e-02, 2.40400136e-02, 2.95755267e-03, 4.28355038e-02,\n",
       "       1.38145685e-03, 3.79851460e-03, 3.96549702e-04, 2.93541551e-02,\n",
       "       3.72821093e-03, 3.63379717e-04, 5.53846359e-04, 2.07245350e-04,\n",
       "       1.46227777e-02, 2.36617625e-02, 1.39659643e-03, 2.41577625e-04,\n",
       "       1.10876560e-03, 1.56890452e-02, 7.67648220e-03, 2.89198756e-03,\n",
       "       6.73514605e-03, 2.72867084e-03, 2.66844928e-02, 1.51380897e-03,\n",
       "       1.62777305e-03, 6.75708055e-04, 4.79555130e-03, 3.17895412e-03,\n",
       "       4.22328711e-04, 2.92193294e-02, 1.10298395e-04, 3.57645750e-03,\n",
       "       3.31667066e-03, 2.46554613e-04, 1.26382113e-02, 2.20909715e-03,\n",
       "       2.22154856e-02, 3.59373987e-02, 7.47039914e-03, 2.55346298e-04,\n",
       "       9.64117050e-03, 1.32304728e-02, 8.25998187e-03, 6.14419580e-03,\n",
       "       2.08109617e-04, 2.90328264e-03, 1.24312937e-02, 1.11413300e-02,\n",
       "       1.96403265e-03, 1.24090910e-03, 7.48127699e-04, 1.35359168e-03,\n",
       "       3.69846821e-05, 1.05169415e-03, 1.33693218e-04, 4.96584177e-03,\n",
       "       2.77516246e-03, 1.02394819e-03, 1.64848566e-02, 1.45614147e-04,\n",
       "       1.04501843e-03, 2.39247084e-02, 2.32201815e-03, 1.05825663e-02,\n",
       "       1.10730529e-03, 1.11510456e-02, 3.30376625e-03, 2.48096585e-02,\n",
       "       4.47634459e-02, 7.61479139e-04, 5.55902719e-04, 8.97797942e-03,\n",
       "       1.19914114e-02, 2.75343657e-04, 3.02344561e-04, 1.11040741e-01,\n",
       "       4.03922796e-03, 4.29961085e-03, 5.13505936e-02, 2.89741158e-03,\n",
       "       3.57320905e-03, 5.40268421e-03, 3.67722511e-02, 1.50769949e-03,\n",
       "       2.79404223e-02, 6.26108050e-03, 7.42226839e-04, 4.21702862e-05,\n",
       "       4.75034118e-03, 5.45561314e-04, 1.34497881e-04, 3.03924084e-04,\n",
       "       9.95990634e-03, 1.69327855e-03, 2.18924880e-03, 1.33114785e-01,\n",
       "       6.05482757e-02, 1.74969435e-04, 1.27798319e-03, 1.34885311e-04,\n",
       "       2.72735953e-03, 1.56457126e-02, 1.35105848e-03, 5.36565781e-02,\n",
       "       3.71405482e-03, 7.20310211e-03, 5.96966743e-02, 7.45713711e-04,\n",
       "       9.02137160e-03, 6.77078962e-04, 6.48051500e-04, 1.25298381e-01,\n",
       "       6.19465113e-03, 1.60601735e-03, 3.57627869e-07, 1.67620182e-03,\n",
       "       1.60536170e-03, 1.20723248e-02, 1.69712305e-03, 1.55980289e-02,\n",
       "       7.93427229e-04, 4.23938036e-04, 7.78526068e-04, 3.58858705e-03,\n",
       "       1.37538314e-02, 2.37572193e-03, 7.56859779e-04, 6.67750835e-04,\n",
       "       5.75274229e-04, 1.54972076e-04, 5.91042936e-02, 2.11831927e-03,\n",
       "       1.51687860e-03, 1.65872574e-02, 3.20138037e-02, 1.68442726e-04,\n",
       "       1.80065930e-02, 8.18201900e-03, 1.79228008e-01, 8.45146775e-02,\n",
       "       2.15908885e-03], dtype=float32)"
      ]
     },
     "execution_count": 106,
     "metadata": {},
     "output_type": "execute_result"
    }
   ],
   "source": [
    "scores"
   ]
  },
  {
   "cell_type": "code",
   "execution_count": null,
   "metadata": {
    "collapsed": true
   },
   "outputs": [],
   "source": []
  }
 ],
 "metadata": {
  "kernelspec": {
   "display_name": "Python 3",
   "language": "python",
   "name": "python3"
  },
  "language_info": {
   "codemirror_mode": {
    "name": "ipython",
    "version": 3
   },
   "file_extension": ".py",
   "mimetype": "text/x-python",
   "name": "python",
   "nbconvert_exporter": "python",
   "pygments_lexer": "ipython3",
   "version": "3.6.3"
  }
 },
 "nbformat": 4,
 "nbformat_minor": 2
}
